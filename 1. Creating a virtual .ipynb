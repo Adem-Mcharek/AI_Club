{
 "cells": [
  {
   "cell_type": "markdown",
   "id": "a4714c99-5874-49d3-b7fd-bb5f379151cd",
   "metadata": {},
   "source": [
    "### Creating a virtual envirement"
   ]
  },
  {
   "cell_type": "markdown",
   "id": "ae7c006f-f291-4740-bdb3-c7b6b24eef92",
   "metadata": {},
   "source": [
    "make sure to change the kernel and Follow these steps:\n",
    "    1. Select another kernel \n",
    "    2. Python Envirements \n",
    "    3.Create Python Envirement\n",
    "    4.Venv"
   ]
  },
  {
   "cell_type": "markdown",
   "id": "cda096b3",
   "metadata": {},
   "source": [
    "#### this "
   ]
  },
  {
   "cell_type": "code",
   "execution_count": null,
   "id": "8d859de7-46b4-4002-a108-fb8680f88207",
   "metadata": {},
   "outputs": [],
   "source": [
    "!pip install openai"
   ]
  }
 ],
 "metadata": {
  "kernelspec": {
   "display_name": "AICLUB",
   "language": "python",
   "name": "aiclub"
  },
  "language_info": {
   "codemirror_mode": {
    "name": "ipython",
    "version": 3
   },
   "file_extension": ".py",
   "mimetype": "text/x-python",
   "name": "python",
   "nbconvert_exporter": "python",
   "pygments_lexer": "ipython3",
   "version": "3.12.0"
  }
 },
 "nbformat": 4,
 "nbformat_minor": 5
}
